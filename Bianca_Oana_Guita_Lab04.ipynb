{
  "nbformat": 4,
  "nbformat_minor": 0,
  "metadata": {
    "colab": {
      "name": "Lab04.ipynb",
      "provenance": [],
      "collapsed_sections": []
    },
    "kernelspec": {
      "name": "python3",
      "display_name": "Python 3"
    },
    "accelerator": "GPU"
  },
  "cells": [
    {
      "cell_type": "markdown",
      "metadata": {
        "id": "6CbGAZP3h7SA"
      },
      "source": [
        "#Laborator 4\n",
        "\n",
        "In cadrul acestui laborator o sa lucram cu blocurile de baza necesare construirii unor retele mai complexe. De interes sunt:\n",
        "\n",
        "\n",
        "*   Residual Blocks\n",
        "*   Inception Blocks\n",
        "\n",
        "Pe langa acestea, o sa aplicam si augmentari generale de date care au rolul de a face modelul robust la variatii mici. \n",
        "\n"
      ]
    },
    {
      "cell_type": "markdown",
      "metadata": {
        "id": "fjRY_xvrh_-L"
      },
      "source": [
        "## Operatii Noi\n",
        "\n",
        "Urmatoarele operatii vor fi folosite in cadrul laboratorului\n",
        "\n",
        "Tensor shape: (batch,channels,dim1,dim2)\n",
        "\n",
        "\n",
        "*  **torch.cat(tensors, dim=0).** Tensorii trebuie sa aiba aceleasi dim1,dim2, dar channels poate sa difere.\n",
        "*  **torch.add(input, other)**. Tensorii trebuie sa aiba aceleasi dimensiune pe toate axele.\n",
        "\n",
        "\n",
        "\n"
      ]
    },
    {
      "cell_type": "code",
      "metadata": {
        "colab": {
          "base_uri": "https://localhost:8080/"
        },
        "id": "pFmooG49iMjJ",
        "outputId": "befd5d0a-31f6-4d19-b1a1-477b69ca2e48"
      },
      "source": [
        "import numpy as np\n",
        "import torch.nn as nn\n",
        "import torch\n",
        "\n",
        "dummy_input_tensor1 = torch.rand((1,3,100,100))  # Input random de marime 100x100 cu 3 canale\n",
        "dummy_input_tensor2 = torch.rand((1,5,100,100))  # Input random de marime 100x100 cu 5 canale\n",
        "\n",
        "# Normal se concateneaza pe dimensiunea canalelor.\n",
        "x = torch.cat([dummy_input_tensor1,dummy_input_tensor2],dim=1) \n",
        "print(x.shape) # Numarul de canele_output = canale_input2 + canale_input1\n",
        "\n",
        "dummy_input_tensor1 = torch.rand((1,3,100,100))  # Input random de marime 100x100 cu 3 canale\n",
        "dummy_input_tensor2 = torch.rand((1,3,100,100))  # Input random de marime 100x100 cu 3 canale\n",
        "\n",
        "x = torch.add(dummy_input_tensor1,dummy_input_tensor2)\n",
        "print(x.shape) "
      ],
      "execution_count": 6,
      "outputs": [
        {
          "output_type": "stream",
          "text": [
            "torch.Size([1, 8, 100, 100])\n",
            "torch.Size([1, 3, 100, 100])\n"
          ],
          "name": "stdout"
        }
      ]
    },
    {
      "cell_type": "markdown",
      "metadata": {
        "id": "J2WG8tGsigqv"
      },
      "source": [
        "##Residual Block\n",
        "\n",
        "In cadrul Resnet se utilizeaza residual connections / skip connections, care impreuna cu un path normal, ca cele implementate pana acum, formeaza un residual block. \n",
        "\n",
        "![resnetBlock](https://drive.google.com/uc?id=1fa4uuMBY4qmDbk4Tanu3CT-1E4nYq_He)\n",
        "\n",
        "###Cerinta 1 - **(3p)**\n",
        "\n",
        "Implementati ResidualBlock. Acesta duce input tensor in ($c_{input}$,width,height) in  ($c_{out}$,width,height) sau  ($c_{out}$,width/2,height/2) in functie de stride.\n",
        "\n",
        "\n"
      ]
    },
    {
      "cell_type": "code",
      "metadata": {
        "id": "khl9s7yHiycA",
        "colab": {
          "base_uri": "https://localhost:8080/"
        },
        "outputId": "ecb53fc8-a8ba-4bba-903a-474ba6d52f2e"
      },
      "source": [
        "import numpy as np\n",
        "import torch.nn as nn\n",
        "import torch\n",
        "import torch.nn.functional as F\n",
        "\n",
        "class ResidualBlock(nn.Module):\n",
        "  def __init__(self,input_channels=32,hidden_channels=64,output_channels=64,kernel_size=3,stride=1,activation=nn.ReLU()):\n",
        "    super(ResidualBlock,self).__init__()\n",
        "    layers = []\n",
        "    # Your code here\n",
        "    layers.append(nn.Conv2d(in_channels=input_channels, out_channels=output_channels, kernel_size=kernel_size, stride=stride, padding=kernel_size//2))\n",
        "    layers.append(activation)\n",
        "    # layers.append(nn.Conv2d(in_channels= hidden_channels, out_channels=output_channels,kernel_size=kernel_size, stride=stride, padding=kernel_size//2))\n",
        "\n",
        "    self.net_normal = nn.Sequential(*layers)\n",
        "\n",
        "    self.net_residual = nn.Conv2d(input_channels,output_channels,1,stride)\n",
        "\n",
        "  def forward(self,x):\n",
        "    x = torch.add(self.net_normal(x),self.net_residual(x))\n",
        "    x = F.relu(x)\n",
        "    return x\n",
        "\n",
        "block = ResidualBlock(3,64,128,3,2,nn.ReLU())\n",
        "block2 = ResidualBlock(128,64,128,3,2,nn.ReLU())\n",
        "x = torch.rand(size=(1,3,100,100))\n",
        "conv = nn.Conv2d(128,128,3,2)\n",
        "# Should output torch.Size([1, 256, 50, 50])\n",
        "print(conv(block2(block(x))).shape)"
      ],
      "execution_count": 165,
      "outputs": [
        {
          "output_type": "stream",
          "text": [
            "torch.Size([1, 128, 12, 12])\n"
          ],
          "name": "stdout"
        }
      ]
    },
    {
      "cell_type": "markdown",
      "metadata": {
        "id": "ZALBMSmPjWSJ"
      },
      "source": [
        "##Inception Block\n",
        "\n",
        "In cadrul GoogleNet/InceptionNet este folosit Inception Block, care este alcatuit din mai multe mini-retele putin diferite, care se unesc la finalul Inception Block\n",
        "\n",
        "### Cerinta 2 - **(3p)**\n",
        "\n",
        "Implementati Inception Block. Acesta trebuie sa duca un Tensor ($ch_{input}$,w,h) in ($ch_{out}$,w/2,h/2)\n",
        "\n",
        "![InceptionBlock](https://drive.google.com/uc?id=1OOLqfHZSIdQp6xO1T8cUpgjmfkMgGDuU)"
      ]
    },
    {
      "cell_type": "code",
      "metadata": {
        "id": "e-23isTujgZd",
        "colab": {
          "base_uri": "https://localhost:8080/"
        },
        "outputId": "2a54ae42-5e0f-48b0-b1b8-e5420970966f"
      },
      "source": [
        "import numpy as np\n",
        "import torch.nn as nn\n",
        "import torch\n",
        "import torch.nn.functional as F\n",
        "\n",
        "\n",
        "class InceptionBlock(nn.Module):\n",
        "  def __init__(self,input_channels=32,kernel_size=3,stride=1,activation=nn.ReLU()):\n",
        "    super(InceptionBlock,self).__init__()\n",
        "    ## De sters\n",
        "    layers = []\n",
        "    # Your code here\n",
        "    params = [[1,input_channels//4,input_channels,stride,0],[3,input_channels//2,input_channels//4,1,1],[3,input_channels,input_channels//2,1,1]]\n",
        "    for param in params:\n",
        "      layers.append(nn.Conv2d(param[2],param[1],param[0],param[3],(param[4],param[4])))\n",
        "      layers.append(nn.BatchNorm2d(param[1]))\n",
        "      layers.append(activation)\n",
        "    self.path1 = nn.Sequential(*layers)\n",
        "\n",
        "    layers = []\n",
        "    # Your code here\n",
        "    params2 = [[1, input_channels//4, input_channels,stride,0], [3, input_channels//2, input_channels//4,1,1]]\n",
        "    for param2 in params2:\n",
        "      layers.append(nn.Conv2d(param2[2], param2[1], param2[0],param2[3],padding=(param2[4],param2[4])))\n",
        "      layers.append(nn.BatchNorm2d(param2[1]))\n",
        "      layers.append(activation)\n",
        "    self.path2 = nn.Sequential(*layers)\n",
        "\n",
        "    layers = []\n",
        "    # Your code here\n",
        "    layers.append(nn.MaxPool2d(3,1))\n",
        "    layers.append(nn.Conv2d(input_channels,input_channels//4,1,stride,padding=(1,1)))\n",
        "    layers.append(nn.BatchNorm2d(input_channels//4))\n",
        "    layers.append(activation)\n",
        "    self.path3 = nn.Sequential(*layers)\n",
        "\n",
        "    layers = []\n",
        "    # Your code here\n",
        "    layers.append(nn.Conv2d(input_channels,input_channels//4,1,stride ))\n",
        "    layers.append(nn.BatchNorm2d(input_channels//4))\n",
        "    layers.append(activation)\n",
        "    self.path4 = nn.Sequential(*layers)\n",
        "\n",
        "  def forward(self,x):\n",
        "    x1 = self.path1(x)\n",
        "    # print(x1.shape)\n",
        "    x2 =self.path2(x)\n",
        "    # print(x2.shape)\n",
        "    x3 =self.path3(x)\n",
        "    # print(x3.shape)\n",
        "    x4 =self.path4(x)\n",
        "    # print(x4.shape)\n",
        "    x = torch.cat([x1,x2,x3,x4],1)\n",
        "    return x\n",
        "\n",
        "block = InceptionBlock(64,3,2,nn.ReLU())\n",
        "x = torch.rand(size=(1,64,100,100))\n",
        "\n",
        "# Should output torch.Size([1, 128, 50, 50])\n",
        "print(block(x).shape)"
      ],
      "execution_count": 202,
      "outputs": [
        {
          "output_type": "stream",
          "text": [
            "torch.Size([1, 128, 50, 50])\n"
          ],
          "name": "stdout"
        }
      ]
    },
    {
      "cell_type": "code",
      "metadata": {
        "colab": {
          "base_uri": "https://localhost:8080/"
        },
        "id": "-zKpZ-jRopHF",
        "outputId": "ea6cbf8f-f063-4e67-92a9-6f71e7ca483d"
      },
      "source": [
        "x = torch.rand(size=(1,64,100,100))\n",
        "y = torch.rand(size=(1,64,100,100))\n",
        "\n",
        "torch.cat([x,y],dim=1).shape"
      ],
      "execution_count": 9,
      "outputs": [
        {
          "output_type": "execute_result",
          "data": {
            "text/plain": [
              "torch.Size([1, 128, 100, 100])"
            ]
          },
          "metadata": {
            "tags": []
          },
          "execution_count": 9
        }
      ]
    },
    {
      "cell_type": "markdown",
      "metadata": {
        "id": "gk9ywDmWtLdh"
      },
      "source": [
        "## Instantierea seturilor de date\n",
        "\n",
        "In acest laborator lucram cu un nou set de date. Este vorba de un dataset folosit in [aceasta competitie Kaggle](https://www.kaggle.com/c/dogs-vs-cats/overview), Pisici vs Caini. \n",
        "\n",
        "***In this competition, you'll write an algorithm to classify whether images contain either a dog or a cat.  This is easy for humans, dogs, and cats. Your computer will find it a bit more difficult.***\n"
      ]
    },
    {
      "cell_type": "markdown",
      "metadata": {
        "id": "BLxAdvGstEZH"
      },
      "source": [
        "# Descarcarea setului de date\n",
        "\n",
        "### Authenticating with Kaggle using kaggle.json\n",
        "\n",
        "Navigate to https://www.kaggle.com. Then go to the [Account tab of your user profile](https://www.kaggle.com/me/account) and select Create API Token. This will trigger the download of kaggle.json, a file containing your API credentials.\n",
        "\n",
        "Then run the cell below to upload kaggle.json to your Colab runtime.\n"
      ]
    },
    {
      "cell_type": "code",
      "metadata": {
        "colab": {
          "resources": {
            "http://localhost:8080/nbextensions/google.colab/files.js": {
              "data": "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",
              "ok": true,
              "headers": [
                [
                  "content-type",
                  "application/javascript"
                ]
              ],
              "status": 200,
              "status_text": ""
            }
          },
          "base_uri": "https://localhost:8080/",
          "height": 89
        },
        "id": "vLT5e1cPuC0s",
        "outputId": "77d5eb8b-5c7d-48cc-9a54-b0e62788efb1"
      },
      "source": [
        "from google.colab import files\n",
        "\n",
        "uploaded = files.upload()\n",
        "\n",
        "for fn in uploaded.keys():\n",
        "  print('User uploaded file \"{name}\" with length {length} bytes'.format(\n",
        "      name=fn, length=len(uploaded[fn])))\n",
        "  \n",
        "# Then move kaggle.json into the folder where the API expects to find it.\n",
        "!mkdir -p ~/.kaggle/ && mv kaggle.json ~/.kaggle/ && chmod 600 ~/.kaggle/kaggle.json"
      ],
      "execution_count": 10,
      "outputs": [
        {
          "output_type": "display_data",
          "data": {
            "text/html": [
              "\n",
              "     <input type=\"file\" id=\"files-7dd8aad2-9d1d-4edc-80b6-0f2c60d0d4bd\" name=\"files[]\" multiple disabled\n",
              "        style=\"border:none\" />\n",
              "     <output id=\"result-7dd8aad2-9d1d-4edc-80b6-0f2c60d0d4bd\">\n",
              "      Upload widget is only available when the cell has been executed in the\n",
              "      current browser session. Please rerun this cell to enable.\n",
              "      </output>\n",
              "      <script src=\"/nbextensions/google.colab/files.js\"></script> "
            ],
            "text/plain": [
              "<IPython.core.display.HTML object>"
            ]
          },
          "metadata": {
            "tags": []
          }
        },
        {
          "output_type": "stream",
          "text": [
            "Saving kaggle.json to kaggle.json\n",
            "User uploaded file \"kaggle.json\" with length 66 bytes\n"
          ],
          "name": "stdout"
        }
      ]
    },
    {
      "cell_type": "code",
      "metadata": {
        "id": "6bmCpT95vnnr"
      },
      "source": [
        "!pip install kaggle\n",
        "!kaggle competitions download -c dogs-vs-cats\n",
        "!for z in *.zip; do unzip \"$z\"; done\n",
        "!ls "
      ],
      "execution_count": null,
      "outputs": []
    },
    {
      "cell_type": "markdown",
      "metadata": {
        "id": "XpV6bzFhwcVK"
      },
      "source": [
        "## Crearea Dataloader-ului\n",
        "\n",
        "In continuare, pentru a incarca date, sa o folosim un obiect mai complex, un Torch.utils.data.Dataset. Acesta are 3 functii importante:\n",
        "\n",
        "\n",
        "*   __init__()\n",
        "*   ____len____()\n",
        "*  ____get_item____()\n",
        "\n"
      ]
    },
    {
      "cell_type": "code",
      "metadata": {
        "id": "07kUfSMQwdhR"
      },
      "source": [
        "import torch as t\n",
        "from PIL import Image\n",
        "import numpy as np\n",
        "from torch.utils.data import Dataset, DataLoader\n",
        "from torchvision.transforms.functional import to_tensor, normalize\n",
        "import random, os\n",
        "random.seed(42)\n",
        "\n",
        "import matplotlib.pyplot as plt\n",
        "import matplotlib.patches as patches\n",
        "\n",
        "train_dir = '../data/train'\n",
        "test_dir = '../data/test'\n",
        "\n",
        "class CatsDogsDataset(Dataset):\n",
        "    def __init__(self, file_list, width=128, height=128, transform=None):\n",
        "        self.file_list = file_list\n",
        "        self.transform = transform\n",
        "        self.img_size = (width, height)\n",
        "        \n",
        "    def __len__(self):\n",
        "        return len(self.file_list)\n",
        "    \n",
        "    def __getitem__(self,idx):\n",
        "        img_path = self.file_list[idx]\n",
        "        img = Image.open(img_path)\n",
        "\n",
        "        original_width, original_height = img.size\n",
        "\n",
        "        img = img.resize(self.img_size)\n",
        "        img = np.array(img)\n",
        "        \n",
        "        label = img_path.split('/')[-1].split('.')[0]\n",
        "        if label == 'dog':\n",
        "            label = 1\n",
        "        elif label == 'cat':\n",
        "            label = 0\n",
        "            \n",
        "        return to_tensor(img), label"
      ],
      "execution_count": 54,
      "outputs": []
    },
    {
      "cell_type": "markdown",
      "metadata": {
        "id": "7jBnJQwi304r"
      },
      "source": [
        "Construire Dataset si vizualizare date."
      ]
    },
    {
      "cell_type": "code",
      "metadata": {
        "id": "FfFoySuh32uy",
        "colab": {
          "base_uri": "https://localhost:8080/",
          "height": 268
        },
        "outputId": "bc684346-f1d8-48a8-c2c3-109d1ba1325a"
      },
      "source": [
        "from IPython.display import clear_output\n",
        "import time\n",
        "\n",
        "train_test_proportion = .85\n",
        "\n",
        "import glob\n",
        "\n",
        "samples = glob.glob(os.path.join('./train','*.jpg'))\n",
        "random.shuffle(samples)\n",
        "\n",
        "train_samples = samples[:int(train_test_proportion*len(samples))]\n",
        "test_samples = samples[int(train_test_proportion*len(samples)):]\n",
        "\n",
        "cats_dogs_train = CatsDogsDataset(train_samples)\n",
        "cats_dogs_test = CatsDogsDataset(test_samples)\n",
        "\n",
        "train_loader = DataLoader(cats_dogs_train, batch_size=16, shuffle=True)\n",
        "test_loader = DataLoader(cats_dogs_test, batch_size=1, shuffle=False)\n",
        "\n",
        "see_examples = 10\n",
        "for i, (imgs, label) in enumerate(test_loader):\n",
        "    clear_output(wait=True)\n",
        "    plt.imshow(imgs[0].permute(1, 2, 0))\n",
        "    plt.text(5, 15, \"DOG\" if label[0] else \"CAT\", fontsize ='xx-large', color='red', fontweight='bold')\n",
        "    plt.show()\n",
        "\n",
        "    if i >= see_examples - 1:\n",
        "      break\n",
        "    time.sleep(1)\n"
      ],
      "execution_count": 140,
      "outputs": [
        {
          "output_type": "display_data",
          "data": {
            "image/png": "[encoded data removed]",
            "text/plain": [
              "<Figure size 432x288 with 1 Axes>"
            ]
          },
          "metadata": {
            "tags": [],
            "needs_background": "light"
          }
        }
      ]
    },
    {
      "cell_type": "code",
      "metadata": {
        "colab": {
          "base_uri": "https://localhost:8080/",
          "height": 35
        },
        "id": "EjKTVQLOCn6i",
        "outputId": "a0e769fd-e0f3-4995-aa47-2be8491fb17c"
      },
      "source": [
        "train_samples[0]"
      ],
      "execution_count": 51,
      "outputs": [
        {
          "output_type": "execute_result",
          "data": {
            "application/vnd.google.colaboratory.intrinsic+json": {
              "type": "string"
            },
            "text/plain": [
              "'./train/cat.11754.jpg'"
            ]
          },
          "metadata": {
            "tags": []
          },
          "execution_count": 51
        }
      ]
    },
    {
      "cell_type": "code",
      "metadata": {
        "id": "psVWexpLwV-r"
      },
      "source": [
        "# Antrenati o retea convolutionala (o arhitectura la alegere din laboratorul 3) folosind acest dataset, pe GPU\n",
        "import torch.nn as nn\n",
        "\n",
        "class Net(nn.Module):\n",
        "  def __init__(self):\n",
        "    super(Net, self).__init__()\n",
        "    self.layer1 = nn.Conv2d(in_channels=3, out_channels=10, kernel_size=(3,3), stride=(2,2))\n",
        "    self.layer2 = nn.Conv2d(in_channels=10, out_channels=5, kernel_size=(3,3), stride=(2,2))\n",
        "    self.flatten = nn.Flatten()\n",
        "    self.linear1 = nn.Linear(4805,500)\n",
        "    self.linear2 = nn.Linear(500,1) #noi avem 32x32x3, deci (32-2):2 aka (32-kernel_size-1)/stride\n",
        "    self.activation = nn.ReLU() \n",
        "  def forward(self,x):\n",
        "    output_layer1 = self.layer1(x)\n",
        "    output1 = self.activation(output_layer1)\n",
        "    output_layer2 = self.layer2(output1)\n",
        "    # print(output_layer2.shape)\n",
        "    output2 = self.flatten(output_layer2)\n",
        "    output2 = self.activation(output2)\n",
        "    output_linear = self.activation(self.linear1(output2))\n",
        "    output_linear = self.linear2(output_linear)\n",
        "    output = torch.sigmoid(output_linear)\n",
        "    return output"
      ],
      "execution_count": 134,
      "outputs": []
    },
    {
      "cell_type": "code",
      "metadata": {
        "id": "G5ECuwPzyNFr"
      },
      "source": [
        "import torch.optim as optim\n",
        "\n",
        "# Definiti numarul de epoci\n",
        "epochs = 5\n",
        "\n",
        "# Definiti reteaua\n",
        "net = Net().cuda()\n",
        "\n",
        "# Definiti optimizatorul\n",
        "optimizer = optim.Adam(net.parameters(), lr=1e-4)\n",
        "# Dupa definirea optimizatorului si dupa fiecare iteratie trebuie apelata functia zero_grad().\n",
        "# Aceasta face toti gradientii zero.\n",
        "# Completati codul pentru a face gradientii zero aici\n",
        "optimizer.zero_grad()\n",
        "\n",
        "\n",
        "# Definiti functia cost pentru clasificare Cross-Entropy\n",
        "loss_fn = nn.BCELoss()\n"
      ],
      "execution_count": 160,
      "outputs": []
    },
    {
      "cell_type": "code",
      "metadata": {
        "id": "A8UOybICyU3U"
      },
      "source": [
        "def train_fn(epochs: int, train_loader: DataLoader, test_loader: DataLoader):\n",
        "  use_cuda = True\n",
        "  # Iteram prin numarul de epoci\n",
        "  for e in range(epochs):\n",
        "    # Iteram prin fiecare exemplu din dataset\n",
        "    for images, labels in train_loader:\n",
        "      if use_cuda:\n",
        "        images = images.cuda()\n",
        "        labels = labels.cuda()\n",
        "      # Aplicam reteaua neurala pe imaginile de intrare\n",
        "      out = net(images)\n",
        "      # Aplicam functia cost pe iesirea retelei neurale si pe adnotarile imaginilor \n",
        "      loss = loss_fn(out, labels.cuda().reshape(-1,1).float())\n",
        "      # Aplicam algoritmul de back-propagation\n",
        "      loss.backward()\n",
        "      # Facem pasul de optimizare, pentru a aplica gradientii pe parametrii retelei\n",
        "      optimizer.step()\n",
        "      # Apelam functia zero_grad() pentru a uita gradientii de la iteratie curenta\n",
        "      optimizer.zero_grad()\n",
        "    \n",
        "    print(\"Loss-ul la finalul epocii {} are valoarea {}\".format(e, loss.item()))\n",
        "\n",
        "    # Caluculul acuratetii\n",
        "    count = len(test_loader)\n",
        "    correct = 0\n",
        "\n",
        "    for test_image, test_label in test_loader:\n",
        "      if use_cuda:\n",
        "        test_label = test_label.cuda()\n",
        "        test_image = test_image.cuda()\n",
        "      out_class = (net(test_image) > .5).float()\n",
        "      if out_class == test_label:\n",
        "        correct += 1\n",
        "\n",
        "    print(\"Acuratetea la finalul epocii {} este {:.2f}%\".format(e, (correct / count) * 100))"
      ],
      "execution_count": 161,
      "outputs": []
    },
    {
      "cell_type": "code",
      "metadata": {
        "colab": {
          "base_uri": "https://localhost:8080/"
        },
        "id": "_kyoYSaP0IzY",
        "outputId": "4eaf6964-79b1-4ebe-aee5-3fc8b7412b81"
      },
      "source": [
        "train_fn(epochs, train_loader, test_loader)"
      ],
      "execution_count": 162,
      "outputs": [
        {
          "output_type": "stream",
          "text": [
            "Loss-ul la finalul epocii 0 are valoarea 0.5292406678199768\n",
            "Acuratetea la finalul epocii 0 este 62.93%\n",
            "Loss-ul la finalul epocii 1 are valoarea 0.6555823683738708\n",
            "Acuratetea la finalul epocii 1 este 66.19%\n",
            "Loss-ul la finalul epocii 2 are valoarea 0.7733889818191528\n",
            "Acuratetea la finalul epocii 2 este 67.04%\n",
            "Loss-ul la finalul epocii 3 are valoarea 1.6742298603057861\n",
            "Acuratetea la finalul epocii 3 este 69.63%\n",
            "Loss-ul la finalul epocii 4 are valoarea 0.7446492910385132\n",
            "Acuratetea la finalul epocii 4 este 70.11%\n"
          ],
          "name": "stdout"
        }
      ]
    },
    {
      "cell_type": "code",
      "metadata": {
        "colab": {
          "base_uri": "https://localhost:8080/"
        },
        "id": "tgCXj9IdVhSJ",
        "outputId": "0f45f737-0a34-4c3b-8fce-edf069b6ca12"
      },
      "source": [
        "use_cuda = True\n",
        "correct =0 \n",
        "for test_image, test_label in test_loader:\n",
        "  if use_cuda:\n",
        "    test_label = test_label.cuda()\n",
        "    test_image = test_image.cuda()\n",
        "  out_class = (net(test_image) > .5).float()\n",
        "  if out_class == test_label:\n",
        "    correct += 1\n",
        "\n",
        "print(\"Acuratetea la finalul epocii {} este {:.2f}%\".format(0, (correct / len(test_loader)) * 100))"
      ],
      "execution_count": 159,
      "outputs": [
        {
          "output_type": "stream",
          "text": [
            "Acuratetea la finalul epocii 0 este 67.71%\n"
          ],
          "name": "stdout"
        }
      ]
    },
    {
      "cell_type": "markdown",
      "metadata": {
        "id": "RkOyls3GgUev"
      },
      "source": [
        "# **Antrenati o retea de tip Resnet (folosind blocuri de tip Residual)**"
      ]
    },
    {
      "cell_type": "code",
      "metadata": {
        "id": "_hac5AxDbO2C"
      },
      "source": [
        "import torch.nn as nn\n",
        "\n",
        "class Residual(nn.Module):\n",
        "  def __init__(self):\n",
        "    super(Residual, self).__init__()\n",
        "    self.layer1 = nn.Conv2d(in_channels=3, out_channels=30, kernel_size=(3,3), stride=(2,2))\n",
        "    self.layer2 = nn.Conv2d(in_channels=30, out_channels=10, kernel_size=(3,3), stride=(2,2))\n",
        "    self.block = ResidualBlock(10,64,128,3,2,nn.ReLU())\n",
        "    self.block2 = ResidualBlock(128,64,128,3,2,nn.ReLU())\n",
        "    self.flatten = nn.Flatten()\n",
        "    self.linear1 = nn.Linear(8192,500)\n",
        "    self.linear2 = nn.Linear(500,1) #noi avem 32x32x3, deci (32-2):2 aka (32-kernel_size-1)/stride\n",
        "    self.activation = nn.ReLU() \n",
        "  def forward(self,x):\n",
        "    output_layer1 = self.layer1(x)\n",
        "    output1 = self.activation(output_layer1)\n",
        "    output_layer2 = self.layer2(output1)\n",
        "    output_block1 = self.block(output_layer2)\n",
        "    output_block2 = self.block2(output_block1)\n",
        "    output2 = self.flatten(output_block2)\n",
        "    output_linear = self.activation(self.linear1(output2))\n",
        "    output_linear = self.linear2(output_linear)\n",
        "    output = torch.sigmoid(output_linear)\n",
        "\n",
        "\n",
        "    return output"
      ],
      "execution_count": 228,
      "outputs": []
    },
    {
      "cell_type": "code",
      "metadata": {
        "id": "2Yz98fledips"
      },
      "source": [
        "import torch.optim as optim\n",
        "\n",
        "# Definiti numarul de epoci\n",
        "epochs = 7\n",
        "\n",
        "# Definiti reteaua\n",
        "net = Residual().cuda()\n",
        "\n",
        "# Definiti optimizatorul\n",
        "optimizer = optim.Adam(net.parameters(), lr=1e-4)\n",
        "# Dupa definirea optimizatorului si dupa fiecare iteratie trebuie apelata functia zero_grad().\n",
        "# Aceasta face toti gradientii zero.\n",
        "# Completati codul pentru a face gradientii zero aici\n",
        "optimizer.zero_grad()\n",
        "\n",
        "\n",
        "# Definiti functia cost pentru clasificare Cross-Entropy\n",
        "loss_fn = nn.BCELoss()\n"
      ],
      "execution_count": 229,
      "outputs": []
    },
    {
      "cell_type": "code",
      "metadata": {
        "id": "y6_APz_fd48U"
      },
      "source": [
        "def train_fn(epochs: int, train_loader: DataLoader, test_loader: DataLoader):\n",
        "  use_cuda = True\n",
        "  # Iteram prin numarul de epoci\n",
        "  for e in range(epochs):\n",
        "    # Iteram prin fiecare exemplu din dataset\n",
        "    for images, labels in train_loader:\n",
        "      if use_cuda:\n",
        "        images = images.cuda()\n",
        "        labels = labels.cuda()\n",
        "      # Aplicam reteaua neurala pe imaginile de intrare\n",
        "      out = net(images)\n",
        "      # Aplicam functia cost pe iesirea retelei neurale si pe adnotarile imaginilor \n",
        "      loss = loss_fn(out, labels.cuda().reshape(-1,1).float())\n",
        "      # Aplicam algoritmul de back-propagation\n",
        "      loss.backward()\n",
        "      # Facem pasul de optimizare, pentru a aplica gradientii pe parametrii retelei\n",
        "      optimizer.step()\n",
        "      # Apelam functia zero_grad() pentru a uita gradientii de la iteratie curenta\n",
        "      optimizer.zero_grad()\n",
        "    \n",
        "    print(\"Loss-ul la finalul epocii {} are valoarea {}\".format(e, loss.item()))\n",
        "\n",
        "    # Caluculul acuratetii\n",
        "    count = len(test_loader)\n",
        "    correct = 0\n",
        "\n",
        "    for test_image, test_label in test_loader:\n",
        "      if use_cuda:\n",
        "        test_label = test_label.cuda()\n",
        "        test_image = test_image.cuda()\n",
        "      out_class = (net(test_image) > .5).float()\n",
        "      if out_class == test_label:\n",
        "        correct += 1\n",
        "\n",
        "    print(\"Acuratetea la finalul epocii {} este {:.2f}%\".format(e, (correct / count) * 100))"
      ],
      "execution_count": 230,
      "outputs": []
    },
    {
      "cell_type": "code",
      "metadata": {
        "colab": {
          "base_uri": "https://localhost:8080/"
        },
        "id": "qA48Qrjxd9yU",
        "outputId": "68d6dfa4-f6f4-41d5-8d48-abbdd4948603"
      },
      "source": [
        "train_fn(epochs, train_loader, test_loader)"
      ],
      "execution_count": 231,
      "outputs": [
        {
          "output_type": "stream",
          "text": [
            "Loss-ul la finalul epocii 0 are valoarea 0.4522075951099396\n",
            "Acuratetea la finalul epocii 0 este 63.60%\n",
            "Loss-ul la finalul epocii 1 are valoarea 0.7085360288619995\n",
            "Acuratetea la finalul epocii 1 este 69.60%\n",
            "Loss-ul la finalul epocii 2 are valoarea 0.7487553954124451\n",
            "Acuratetea la finalul epocii 2 este 70.96%\n",
            "Loss-ul la finalul epocii 3 are valoarea 0.5139973163604736\n",
            "Acuratetea la finalul epocii 3 este 69.04%\n",
            "Loss-ul la finalul epocii 4 are valoarea 0.13357998430728912\n",
            "Acuratetea la finalul epocii 4 este 74.59%\n",
            "Loss-ul la finalul epocii 5 are valoarea 0.8309934139251709\n",
            "Acuratetea la finalul epocii 5 este 74.93%\n",
            "Loss-ul la finalul epocii 6 are valoarea 0.17151744663715363\n",
            "Acuratetea la finalul epocii 6 este 76.80%\n"
          ],
          "name": "stdout"
        }
      ]
    },
    {
      "cell_type": "markdown",
      "metadata": {
        "id": "mE-D8DuUgbXu"
      },
      "source": [
        "# ***Antrenati o retea de tip Inception (folosind blocuri de tip Inception) ***"
      ]
    },
    {
      "cell_type": "code",
      "metadata": {
        "id": "sXI9ne02gqzi"
      },
      "source": [
        "import torch.nn as nn\n",
        "\n",
        "class Inception(nn.Module):\n",
        "  def __init__(self):\n",
        "    super(Inception, self).__init__()\n",
        "    self.layer1 = nn.Conv2d(in_channels=3, out_channels=30, kernel_size=(3,3), stride=(2,2))\n",
        "    self.layer2 = nn.Conv2d(in_channels=30, out_channels=12, kernel_size=(3,3), stride=(2,2))\n",
        "    self.block = InceptionBlock(12,3,2,nn.ReLU())\n",
        "    self.block2 =InceptionBlock(24,3,2,nn.ReLU())\n",
        "    self.flatten = nn.Flatten()\n",
        "    self.linear1 = nn.Linear(3072,500)\n",
        "    self.linear2 = nn.Linear(500,1) #noi avem 32x32x3, deci (32-2):2 aka (32-kernel_size-1)/stride\n",
        "    self.activation = nn.ReLU() \n",
        "  def forward(self,x):\n",
        "    output_layer1 = self.layer1(x)\n",
        "    output1 = self.activation(output_layer1)\n",
        "    output_layer2 = self.layer2(output1)\n",
        "    output_block1 = self.block(output_layer2)\n",
        "    # print(output_block1.shape)\n",
        "    output_block2 = self.block2(output_block1)\n",
        "    # print(output_block2.shape)\n",
        "    output2 = self.flatten(output_block2)\n",
        "    # print(output2.shape)\n",
        "    output_linear = self.activation(self.linear1(output2))\n",
        "    output_linear = self.linear2(output_linear)\n",
        "    output = torch.sigmoid(output_linear)\n",
        "\n",
        "\n",
        "    return output"
      ],
      "execution_count": 220,
      "outputs": []
    },
    {
      "cell_type": "code",
      "metadata": {
        "id": "nsopEk25gxbt"
      },
      "source": [
        "import torch.optim as optim\n",
        "\n",
        "# Definiti numarul de epoci\n",
        "epochs = 5\n",
        "\n",
        "# Definiti reteaua\n",
        "net = Inception().cuda()\n",
        "\n",
        "# Definiti optimizatorul\n",
        "optimizer = optim.Adam(net.parameters(), lr=1e-4)\n",
        "# Dupa definirea optimizatorului si dupa fiecare iteratie trebuie apelata functia zero_grad().\n",
        "# Aceasta face toti gradientii zero.\n",
        "# Completati codul pentru a face gradientii zero aici\n",
        "optimizer.zero_grad()\n",
        "\n",
        "\n",
        "# Definiti functia cost pentru clasificare Cross-Entropy\n",
        "loss_fn = nn.BCELoss()"
      ],
      "execution_count": 221,
      "outputs": []
    },
    {
      "cell_type": "code",
      "metadata": {
        "id": "spx_HtsTg0-L"
      },
      "source": [
        "def train_fn(epochs: int, train_loader: DataLoader, test_loader: DataLoader):\n",
        "  use_cuda = True\n",
        "  # Iteram prin numarul de epoci\n",
        "  for e in range(epochs):\n",
        "    # Iteram prin fiecare exemplu din dataset\n",
        "    for images, labels in train_loader:\n",
        "      if use_cuda:\n",
        "        images = images.cuda()\n",
        "        labels = labels.cuda()\n",
        "      # Aplicam reteaua neurala pe imaginile de intrare\n",
        "      out = net(images)\n",
        "      # Aplicam functia cost pe iesirea retelei neurale si pe adnotarile imaginilor \n",
        "      loss = loss_fn(out, labels.cuda().reshape(-1,1).float())\n",
        "      # Aplicam algoritmul de back-propagation\n",
        "      loss.backward()\n",
        "      # Facem pasul de optimizare, pentru a aplica gradientii pe parametrii retelei\n",
        "      optimizer.step()\n",
        "      # Apelam functia zero_grad() pentru a uita gradientii de la iteratie curenta\n",
        "      optimizer.zero_grad()\n",
        "    \n",
        "    print(\"Loss-ul la finalul epocii {} are valoarea {}\".format(e, loss.item()))\n",
        "\n",
        "    # Caluculul acuratetii\n",
        "    count = len(test_loader)\n",
        "    correct = 0\n",
        "\n",
        "    for test_image, test_label in test_loader:\n",
        "      if use_cuda:\n",
        "        test_label = test_label.cuda()\n",
        "        test_image = test_image.cuda()\n",
        "      out_class = (net(test_image) > .5).float()\n",
        "      if out_class == test_label:\n",
        "        correct += 1\n",
        "\n",
        "    print(\"Acuratetea la finalul epocii {} este {:.2f}%\".format(e, (correct / count) * 100))"
      ],
      "execution_count": 222,
      "outputs": []
    },
    {
      "cell_type": "code",
      "metadata": {
        "colab": {
          "base_uri": "https://localhost:8080/"
        },
        "id": "YApXFYUgg5Dz",
        "outputId": "8b6e0ce6-b09b-4881-f93d-e1bfa607bce7"
      },
      "source": [
        "train_fn(epochs, train_loader, test_l oader)"
      ],
      "execution_count": 223,
      "outputs": [
        {
          "output_type": "stream",
          "text": [
            "Loss-ul la finalul epocii 0 are valoarea 0.22237366437911987\n",
            "Acuratetea la finalul epocii 0 este 65.33%\n",
            "Loss-ul la finalul epocii 1 are valoarea 1.0279561281204224\n",
            "Acuratetea la finalul epocii 1 este 68.27%\n",
            "Loss-ul la finalul epocii 2 are valoarea 0.08279825747013092\n",
            "Acuratetea la finalul epocii 2 este 70.00%\n",
            "Loss-ul la finalul epocii 3 are valoarea 0.1389743685722351\n",
            "Acuratetea la finalul epocii 3 este 70.35%\n",
            "Loss-ul la finalul epocii 4 are valoarea 0.3596000671386719\n",
            "Acuratetea la finalul epocii 4 este 70.27%\n"
          ],
          "name": "stdout"
        }
      ]
    },
    {
      "cell_type": "markdown",
      "metadata": {
        "id": "EU9ElphQuwmZ"
      },
      "source": [
        "### Cerinta 3 - **(4p)**\n",
        "\n",
        "  1. Antrenati o retea convolutionala (o arhitectura la alegere din laboratorul 3) folosind acest dataset, pe GPU (https://pytorch.org/docs/stable/notes/cuda.html) **(1p)**\n",
        "  2. Antrenati o retea de tip Resnet (folosind blocuri de tip Residual) **(1p)**\n",
        "  3. Antrenati o retea de tip Inception (folosind blocuri de tip Inception)  **(1p)**\n",
        "  4. Experimentati cu diferiti hyperparameters (numarul de layers, numarul de filtre/neuroni, etc.) **(1p)**\n"
      ]
    }
  ]
}