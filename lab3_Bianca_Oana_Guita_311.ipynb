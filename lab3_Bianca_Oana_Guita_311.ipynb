{
  "nbformat": 4,
  "nbformat_minor": 0,
  "metadata": {
    "colab": {
      "name": "lab3.ipynb",
      "provenance": [],
      "collapsed_sections": []
    },
    "kernelspec": {
      "name": "python3",
      "display_name": "Python 3"
    },
    "widgets": {
      "application/vnd.jupyter.widget-state+json": {
        "314c5bc7b6c84b7da5d0c83595e99085": {
          "model_module": "@jupyter-widgets/controls",
          "model_name": "HBoxModel",
          "state": {
            "_view_name": "HBoxView",
            "_dom_classes": [],
            "_model_name": "HBoxModel",
            "_view_module": "@jupyter-widgets/controls",
            "_model_module_version": "1.5.0",
            "_view_count": null,
            "_view_module_version": "1.5.0",
            "box_style": "",
            "layout": "IPY_MODEL_d25e7ba09d2f4735a5936285571421c7",
            "_model_module": "@jupyter-widgets/controls",
            "children": [
              "IPY_MODEL_7b8906c8baed4c699e8c8f99c82fdebe",
              "IPY_MODEL_06da93ad43fa4bb882d5ad99a0bc8dcd"
            ]
          }
        },
        "d25e7ba09d2f4735a5936285571421c7": {
          "model_module": "@jupyter-widgets/base",
          "model_name": "LayoutModel",
          "state": {
            "_view_name": "LayoutView",
            "grid_template_rows": null,
            "right": null,
            "justify_content": null,
            "_view_module": "@jupyter-widgets/base",
            "overflow": null,
            "_model_module_version": "1.2.0",
            "_view_count": null,
            "flex_flow": null,
            "width": null,
            "min_width": null,
            "border": null,
            "align_items": null,
            "bottom": null,
            "_model_module": "@jupyter-widgets/base",
            "top": null,
            "grid_column": null,
            "overflow_y": null,
            "overflow_x": null,
            "grid_auto_flow": null,
            "grid_area": null,
            "grid_template_columns": null,
            "flex": null,
            "_model_name": "LayoutModel",
            "justify_items": null,
            "grid_row": null,
            "max_height": null,
            "align_content": null,
            "visibility": null,
            "align_self": null,
            "height": null,
            "min_height": null,
            "padding": null,
            "grid_auto_rows": null,
            "grid_gap": null,
            "max_width": null,
            "order": null,
            "_view_module_version": "1.2.0",
            "grid_template_areas": null,
            "object_position": null,
            "object_fit": null,
            "grid_auto_columns": null,
            "margin": null,
            "display": null,
            "left": null
          }
        },
        "7b8906c8baed4c699e8c8f99c82fdebe": {
          "model_module": "@jupyter-widgets/controls",
          "model_name": "FloatProgressModel",
          "state": {
            "_view_name": "ProgressView",
            "style": "IPY_MODEL_5f5d749371924de1be67a18ed3e2b4ba",
            "_dom_classes": [],
            "description": "",
            "_model_name": "FloatProgressModel",
            "bar_style": "success",
            "max": 170498071,
            "_view_module": "@jupyter-widgets/controls",
            "_model_module_version": "1.5.0",
            "value": 170498071,
            "_view_count": null,
            "_view_module_version": "1.5.0",
            "orientation": "horizontal",
            "min": 0,
            "description_tooltip": null,
            "_model_module": "@jupyter-widgets/controls",
            "layout": "IPY_MODEL_8e898267dbad4db79b21b0070e829172"
          }
        },
        "06da93ad43fa4bb882d5ad99a0bc8dcd": {
          "model_module": "@jupyter-widgets/controls",
          "model_name": "HTMLModel",
          "state": {
            "_view_name": "HTMLView",
            "style": "IPY_MODEL_bd1ff636df9a4ab7b89f4c12d24e9b69",
            "_dom_classes": [],
            "description": "",
            "_model_name": "HTMLModel",
            "placeholder": "​",
            "_view_module": "@jupyter-widgets/controls",
            "_model_module_version": "1.5.0",
            "value": " 170499072/? [00:05&lt;00:00, 28448091.57it/s]",
            "_view_count": null,
            "_view_module_version": "1.5.0",
            "description_tooltip": null,
            "_model_module": "@jupyter-widgets/controls",
            "layout": "IPY_MODEL_2f17633ec1fb4838b6b787689ba0b6e1"
          }
        },
        "5f5d749371924de1be67a18ed3e2b4ba": {
          "model_module": "@jupyter-widgets/controls",
          "model_name": "ProgressStyleModel",
          "state": {
            "_view_name": "StyleView",
            "_model_name": "ProgressStyleModel",
            "description_width": "initial",
            "_view_module": "@jupyter-widgets/base",
            "_model_module_version": "1.5.0",
            "_view_count": null,
            "_view_module_version": "1.2.0",
            "bar_color": null,
            "_model_module": "@jupyter-widgets/controls"
          }
        },
        "8e898267dbad4db79b21b0070e829172": {
          "model_module": "@jupyter-widgets/base",
          "model_name": "LayoutModel",
          "state": {
            "_view_name": "LayoutView",
            "grid_template_rows": null,
            "right": null,
            "justify_content": null,
            "_view_module": "@jupyter-widgets/base",
            "overflow": null,
            "_model_module_version": "1.2.0",
            "_view_count": null,
            "flex_flow": null,
            "width": null,
            "min_width": null,
            "border": null,
            "align_items": null,
            "bottom": null,
            "_model_module": "@jupyter-widgets/base",
            "top": null,
            "grid_column": null,
            "overflow_y": null,
            "overflow_x": null,
            "grid_auto_flow": null,
            "grid_area": null,
            "grid_template_columns": null,
            "flex": null,
            "_model_name": "LayoutModel",
            "justify_items": null,
            "grid_row": null,
            "max_height": null,
            "align_content": null,
            "visibility": null,
            "align_self": null,
            "height": null,
            "min_height": null,
            "padding": null,
            "grid_auto_rows": null,
            "grid_gap": null,
            "max_width": null,
            "order": null,
            "_view_module_version": "1.2.0",
            "grid_template_areas": null,
            "object_position": null,
            "object_fit": null,
            "grid_auto_columns": null,
            "margin": null,
            "display": null,
            "left": null
          }
        },
        "bd1ff636df9a4ab7b89f4c12d24e9b69": {
          "model_module": "@jupyter-widgets/controls",
          "model_name": "DescriptionStyleModel",
          "state": {
            "_view_name": "StyleView",
            "_model_name": "DescriptionStyleModel",
            "description_width": "",
            "_view_module": "@jupyter-widgets/base",
            "_model_module_version": "1.5.0",
            "_view_count": null,
            "_view_module_version": "1.2.0",
            "_model_module": "@jupyter-widgets/controls"
          }
        },
        "2f17633ec1fb4838b6b787689ba0b6e1": {
          "model_module": "@jupyter-widgets/base",
          "model_name": "LayoutModel",
          "state": {
            "_view_name": "LayoutView",
            "grid_template_rows": null,
            "right": null,
            "justify_content": null,
            "_view_module": "@jupyter-widgets/base",
            "overflow": null,
            "_model_module_version": "1.2.0",
            "_view_count": null,
            "flex_flow": null,
            "width": null,
            "min_width": null,
            "border": null,
            "align_items": null,
            "bottom": null,
            "_model_module": "@jupyter-widgets/base",
            "top": null,
            "grid_column": null,
            "overflow_y": null,
            "overflow_x": null,
            "grid_auto_flow": null,
            "grid_area": null,
            "grid_template_columns": null,
            "flex": null,
            "_model_name": "LayoutModel",
            "justify_items": null,
            "grid_row": null,
            "max_height": null,
            "align_content": null,
            "visibility": null,
            "align_self": null,
            "height": null,
            "min_height": null,
            "padding": null,
            "grid_auto_rows": null,
            "grid_gap": null,
            "max_width": null,
            "order": null,
            "_view_module_version": "1.2.0",
            "grid_template_areas": null,
            "object_position": null,
            "object_fit": null,
            "grid_auto_columns": null,
            "margin": null,
            "display": null,
            "left": null
          }
        }
      }
    },
    "accelerator": "GPU"
  },
  "cells": [
    {
      "cell_type": "markdown",
      "metadata": {
        "id": "ZpoTZudv_LK5"
      },
      "source": [
        "## Straturi Noi\n",
        "\n",
        "In continuare o sa utilizam o parte din straturile prezentate in curs.\n",
        "\n",
        "Staturi noi:\n",
        "\n",
        "Layer Convolutional:\n",
        "* torch.nn.Conv2d(in_channels, out_channels, kernel_size, stride=1, padding=0)\n",
        "\n",
        "Layere Pooling:\n",
        "* torch.nn.MaxPool2d(kernel_size, stride=None, padding=0)\n",
        "* torch.nn.AveragePool2d(kernel_size, stride=None, padding=0)\n",
        "\n",
        "Layere Adaptive Pool, intalnit adesea si ca Global Pool:\n",
        "* torch.nn.AdaptiveAvgPool2d(output_size)\n",
        "* torch.nn.AdaptiveMaxPool2d(output_size)\n",
        "\n",
        "Layer de liniarizare:\n",
        "\n",
        "* torch.nn.Flatten()\n",
        "\n"
      ]
    },
    {
      "cell_type": "code",
      "metadata": {
        "id": "5HWqK9mqHxgB",
        "colab": {
          "base_uri": "https://localhost:8080/"
        },
        "outputId": "66bbfa5b-d576-4dab-b43a-5ef3ffdd4635"
      },
      "source": [
        "import numpy as np\n",
        "import torch.nn as nn\n",
        "import torch\n",
        "\n",
        "dummy_input_tensor = torch.rand((1,3,100,100))  # Input random de marime 100x100 cu 3 canale\n",
        "\n",
        "layer = nn.Conv2d(in_channels=3, out_channels=10, kernel_size=(2,2), stride=(2,2))\n",
        "print(\"Conv1 result shape\",layer(dummy_input_tensor).shape)\n",
        "\n",
        "layer = nn.Conv2d(in_channels=3, out_channels=10, kernel_size=(13,13), stride=(2,2))\n",
        "print(\"Conv2 result shape\",layer(dummy_input_tensor).shape)\n",
        "\n",
        "layer = nn.MaxPool2d(kernel_size=(3,3)) # Stride este inferat din kernel size, ca fiind egal cu kernel size ca sa nu repete elementele luate\n",
        "print(\"Pool result shape\",layer(dummy_input_tensor).shape)\n",
        "\n",
        "# Utilizate pentru a reduce dimensiunea la una prestabilita, util cand marimea input ului este variabil\n",
        "layer = nn.AdaptiveAvgPool2d(output_size=(5,5))\n",
        "print(\"Global Pool result shape\",layer(dummy_input_tensor).shape)\n",
        "\n",
        "layer = nn.Flatten()\n",
        "print(\"Flaten result shape\",layer(dummy_input_tensor).shape)"
      ],
      "execution_count": 1,
      "outputs": [
        {
          "output_type": "stream",
          "text": [
            "Conv1 result shape torch.Size([1, 10, 50, 50])\n",
            "Conv2 result shape torch.Size([1, 10, 44, 44])\n",
            "Pool result shape torch.Size([1, 3, 33, 33])\n",
            "Global Pool result shape torch.Size([1, 3, 5, 5])\n",
            "Flaten result shape torch.Size([1, 30000])\n"
          ],
          "name": "stdout"
        }
      ]
    },
    {
      "cell_type": "markdown",
      "metadata": {
        "id": "GOTmqyCxJ3fk"
      },
      "source": [
        "###Cerinte\n",
        "\n",
        "**(1p)** Utilizati o serie de Conv2D/Pool2D pentru a ajunge la urmatoarele marimi plecand de la input 3x100x100:\n",
        "*   [1, 10, 24, 24]\n",
        "*   [1, 10, 9, 9]\n",
        "*  [1, 3, 2, 2]\n",
        "\n"
      ]
    },
    {
      "cell_type": "code",
      "metadata": {
        "id": "7HtEeXbeKeKu",
        "colab": {
          "base_uri": "https://localhost:8080/"
        },
        "outputId": "a8a9301f-d2df-401a-b965-ff2ecfe364e1"
      },
      "source": [
        "import numpy as np\n",
        "import torch.nn as nn\n",
        "import torch\n",
        "\n",
        "dummy_input_tensor = torch.rand((1,3,100,100))  # Input random de marime 100x100 cu 3 canale\n",
        "layer1 = nn.Conv2d(in_channels=3, out_channels=10, kernel_size=(8,8), stride=(4,4))\n",
        "print(\"Conv2 result shape\",layer1(dummy_input_tensor).shape)\n",
        "\n",
        "layer2 = nn.Conv2d(in_channels=3, out_channels=10, kernel_size=(11,11), stride=(10,10))  \n",
        "# kernel size de la 11 pana la 20 da acelasi rezultat\n",
        "print(\"Conv2 result shape\",layer2(dummy_input_tensor).shape)\n",
        "\n",
        "layer3 = nn.Conv2d(in_channels=3, out_channels=3, kernel_size=(10,10), stride=(50,50))\n",
        "print(\"Conv2 result shape\",layer3(dummy_input_tensor).shape)\n",
        "\n",
        "\n",
        "layer4 = nn.MaxPool2d(kernel_size=(35,35)) # Stride este inferat din kernel size, ca fiind egal cu kernel size ca sa nu repete elementele luate\n",
        "print(\"Pool result shape\",layer4(dummy_input_tensor).shape)\n",
        "\n",
        "\n",
        "\n",
        "layer5 = nn.Conv2d(in_channels=3, out_channels=10, kernel_size=(3,3), stride=(1,1))\n",
        "print(\"Conv2 result shape\",layer5(dummy_input_tensor).shape)\n",
        "a = layer5(dummy_input_tensor)\n",
        "layer6 = nn.MaxPool2d(kernel_size=(4,4))\n",
        "print(\"MaxPool result shape\", layer6(a).shape)"
      ],
      "execution_count": 1,
      "outputs": [
        {
          "output_type": "stream",
          "text": [
            "Conv2 result shape torch.Size([1, 10, 24, 24])\n",
            "Conv2 result shape torch.Size([1, 10, 9, 9])\n",
            "Conv2 result shape torch.Size([1, 3, 2, 2])\n",
            "Pool result shape torch.Size([1, 3, 2, 2])\n",
            "Conv2 result shape torch.Size([1, 10, 98, 98])\n",
            "MaxPool result shape torch.Size([1, 10, 24, 24])\n"
          ],
          "name": "stdout"
        }
      ]
    },
    {
      "cell_type": "markdown",
      "metadata": {
        "id": "yvdPtetggm61"
      },
      "source": [
        "## Instantierea seturilor de date"
      ]
    },
    {
      "cell_type": "code",
      "metadata": {
        "id": "czyIhYt5gmUQ",
        "colab": {
          "base_uri": "https://localhost:8080/",
          "height": 99,
          "referenced_widgets": [
            "314c5bc7b6c84b7da5d0c83595e99085",
            "d25e7ba09d2f4735a5936285571421c7",
            "7b8906c8baed4c699e8c8f99c82fdebe",
            "06da93ad43fa4bb882d5ad99a0bc8dcd",
            "5f5d749371924de1be67a18ed3e2b4ba",
            "8e898267dbad4db79b21b0070e829172",
            "bd1ff636df9a4ab7b89f4c12d24e9b69",
            "2f17633ec1fb4838b6b787689ba0b6e1"
          ]
        },
        "outputId": "0aaf66eb-73f2-43c0-dc87-4e286c8719ee"
      },
      "source": [
        "import torchvision\n",
        "\n",
        "cifar_train = torchvision.datasets.CIFAR10(\"./data\", download=True)\n",
        "cifar_test = torchvision.datasets.CIFAR10(\"./data\", train=False)"
      ],
      "execution_count": 2,
      "outputs": [
        {
          "output_type": "stream",
          "text": [
            "Downloading https://www.cs.toronto.edu/~kriz/cifar-10-python.tar.gz to ./data/cifar-10-python.tar.gz\n"
          ],
          "name": "stdout"
        },
        {
          "output_type": "display_data",
          "data": {
            "application/vnd.jupyter.widget-view+json": {
              "model_id": "314c5bc7b6c84b7da5d0c83595e99085",
              "version_minor": 0,
              "version_major": 2
            },
            "text/plain": [
              "HBox(children=(FloatProgress(value=0.0, max=170498071.0), HTML(value='')))"
            ]
          },
          "metadata": {
            "tags": []
          }
        },
        {
          "output_type": "stream",
          "text": [
            "\n",
            "Extracting ./data/cifar-10-python.tar.gz to ./data\n"
          ],
          "name": "stdout"
        }
      ]
    },
    {
      "cell_type": "markdown",
      "metadata": {
        "id": "FOA4ted_hHdB"
      },
      "source": [
        "## Crearea Dataloader-ului\n",
        "\n",
        "### Cerinte\n",
        " * **(2p)** Implementati functia de preprocesare a datelor, __preproc_fn(examples)__.\n",
        "\n",
        "\n",
        "Atentie! Spre deosebire de intrarea pentru retelele fully-connected, pentru retelele convolutionale intrearea nu trebuie liniarizata, ci doar normalizata.\n",
        "\n",
        "#### Hint\n",
        "\n",
        "  * Amintiti-va folosirea functiei __normalize__ din torchvision.transforms.functional din laboratorul trecut.\n",
        "  * Modificati functia *preproc_fn* din laboratorul trecut, pentru a normaliza datele in intervalul [-1, 1]"
      ]
    },
    {
      "cell_type": "code",
      "metadata": {
        "id": "uGHfd229hRyR"
      },
      "source": [
        "import torch\n",
        "import numpy as np\n",
        "from torch.utils.data import DataLoader\n",
        "from torchvision.transforms.functional import to_tensor, normalize\n",
        "\n",
        "def preproc_fn(examples):\n",
        "  ### Completati codul pentru cerinta aici\n",
        "  processed_images = []\n",
        "  processed_labels = []\n",
        "\n",
        "  for example in examples:\n",
        "    tensor_image = to_tensor(example[0])\n",
        "    normalized_tensor_image = normalize(tensor_image, [0.5, 0.5, 0.5], [0.5, 0.5, 0.5])\n",
        "    normalized_tensor_image = normalized_tensor_image.unsqueeze(0)\n",
        "    processed_images.append(normalized_tensor_image)\n",
        "    \n",
        "    label = np.array(example[1])\n",
        "    tensor_label = torch.tensor(label)\n",
        "    tensor_label = tensor_label.unsqueeze(0)\n",
        "    processed_labels.append(tensor_label)\n",
        "\n",
        "  torch_images = torch.cat(processed_images, dim=0)\n",
        "  torch_labels = torch.cat(processed_labels, dim=0)\n",
        "  \n",
        "  return torch_images, torch_labels\n",
        "\n",
        "batch_size=500\n",
        "train_loader = DataLoader(cifar_train, batch_size=500, shuffle=True, num_workers=2, collate_fn=preproc_fn)\n",
        "test_loader = DataLoader(cifar_test, batch_size=1, shuffle=False, collate_fn=preproc_fn)"
      ],
      "execution_count": 3,
      "outputs": []
    },
    {
      "cell_type": "markdown",
      "metadata": {
        "id": "cnV6PIC1kQMi"
      },
      "source": [
        "## Crearea unei retele neurale convolutionale\n",
        "\n",
        "### Cerinte\n",
        " * **(1p)** Creati o clasa care mosteneste clasa nn.Module. Ea va reprezenta o retea neurala convolutionala pentru clasificare ale celor 10 clase din datasetul CIFAR10.\n",
        "    * Reteaua trebuie sa aiba 2 straturi convolutionale care sa reduca dimensiunea spatiala a imaginii de 2 ori\n",
        "    * Liniarizati iesirea din cel de-al doilea strat convolutional\n",
        "    * Adaugat stratul final de tipul 'fully-connected'\n",
        "    * Folositi o functie de activare la alegere\n",
        "\n",
        "#### Hint\n",
        "\n",
        "Pentru a liniariza iesirea din cel de-al doilea feature map puteti adopta mai multe strategii:\n",
        "  * Liniarizare prin schimbarea shape-ului la [batch_size, -1]\n",
        "  * Global Max Pooling si apoi liniarizare la [batch_size, -1]\n",
        "  * Average Max Pooling si apoi liniarizare la [batch_size, -1]"
      ]
    },
    {
      "cell_type": "code",
      "metadata": {
        "id": "u1Ddc7D-lAEN"
      },
      "source": [
        "import torch.nn as nn\n",
        "\n",
        "class Net(nn.Module):\n",
        "  def __init__(self):\n",
        "    super(Net, self).__init__()\n",
        "    self.layer1 = nn.Conv2d(in_channels=3, out_channels=10, kernel_size=(3,3), stride=(2,2))\n",
        "    self.layer2 = nn.Conv2d(in_channels=10, out_channels=5, kernel_size=(3,3), stride=(2,2))\n",
        "    self.flatten = nn.Flatten()\n",
        "    self.linear = nn.Linear(245,10) #noi avem 32x32x3, deci (32-2):2 aka (32-kernel_size-1)/stride\n",
        "    self.activation = nn.ReLU() \n",
        "  def forward(self,x):\n",
        "    output_layer1 = self.layer1(x)\n",
        "    output1 = self.activation(output_layer1)\n",
        "    output_layer2 = self.layer2(output1)\n",
        "    output2 = self.flatten(output_layer2)\n",
        "    output2 = self.activation(output2)\n",
        "    output_linear = self.linear(output2)\n",
        "    output = self.activation(output_linear)\n",
        "    return output"
      ],
      "execution_count": 4,
      "outputs": []
    },
    {
      "cell_type": "markdown",
      "metadata": {
        "id": "wK0Z9NeYTghv"
      },
      "source": [
        "## Definirea obiectelor folosite in timpul antrenarii\n",
        "\n",
        "### Cerinte **(1p)**\n",
        "  * Numarul de epoci\n",
        "  * Retea\n",
        "  * Optimizator\n",
        "  * Alegeti functia de cost"
      ]
    },
    {
      "cell_type": "code",
      "metadata": {
        "id": "Az3WKQdpod34"
      },
      "source": [
        "import torch.optim as optim\n",
        "\n",
        "# Definiti numarul de epoci\n",
        "epochs = 5\n",
        "\n",
        "# Definiti reteaua\n",
        "network = Net()\n",
        "\n",
        "# Definiti optimizatorul\n",
        "optimizer = optim.SGD(network.parameters(), lr=1e-2,momentum=0.8)\n",
        "# Dupa definirea optimizatorului si dupa fiecare iteratie trebuie apelata functia zero_grad().\n",
        "# Aceasta face toti gradientii zero.\n",
        "# Completati codul pentru a face gradientii zero aici\n",
        "optimizer.zero_grad()\n",
        "\n",
        "\n",
        "# Definiti functia cost pentru clasificare Cross-Entropy\n",
        "loss_fn = nn.CrossEntropyLoss()"
      ],
      "execution_count": 5,
      "outputs": []
    },
    {
      "cell_type": "markdown",
      "metadata": {
        "id": "GAnUsWYWodb4"
      },
      "source": [
        "## Definirea functiei de antrenare"
      ]
    },
    {
      "cell_type": "code",
      "metadata": {
        "id": "K9MTYanoMZ8H"
      },
      "source": [
        "def train_fn(epochs: int, train_loader: DataLoader, test_loader: DataLoader, \n",
        "             net: nn.Module, loss_fn: nn.Module, optimizer: optim.Optimizer):\n",
        "  use_cuda = True\n",
        "  # Iteram prin numarul de epoci\n",
        "  for e in range(epochs):\n",
        "    # Iteram prin fiecare exemplu din dataset\n",
        "    for images, labels in train_loader:\n",
        "      if use_cuda:\n",
        "        images = images.cuda()\n",
        "        labels = labels.cuda()\n",
        "      # Aplicam reteaua neurala pe imaginile de intrare\n",
        "      out = net(images)\n",
        "      # Aplicam functia cost pe iesirea retelei neurale si pe adnotarile imaginilor \n",
        "      loss = loss_fn(out, labels.cuda())\n",
        "      # Aplicam algoritmul de back-propagation\n",
        "      loss.backward()\n",
        "      # Facem pasul de optimizare, pentru a aplica gradientii pe parametrii retelei\n",
        "      optimizer.step()\n",
        "      # Apelam functia zero_grad() pentru a uita gradientii de la iteratie curenta\n",
        "      optimizer.zero_grad()\n",
        "    \n",
        "    print(\"Loss-ul la finalul epocii {} are valoarea {}\".format(e, loss.item()))\n",
        "\n",
        "    # Caluculul acuratetii\n",
        "    count = len(test_loader)\n",
        "    correct = 0\n",
        "\n",
        "    for test_image, test_label in test_loader:\n",
        "      if use_cuda:\n",
        "        test_label = test_label.cuda()\n",
        "        test_image = test_image.cuda()\n",
        "      out_class = torch.argmax(net(test_image))\n",
        "      if out_class == test_label:\n",
        "        correct += 1\n",
        "\n",
        "    print(\"Acuratetea la finalul epocii {} este {:.2f}%\".format(e, (correct / count) * 100))"
      ],
      "execution_count": 12,
      "outputs": []
    },
    {
      "cell_type": "markdown",
      "metadata": {
        "id": "OWvb00A-TkJq"
      },
      "source": [
        "\n",
        "## Antrenarea\n",
        "\n",
        "### Cerinte\n",
        "  * Antrenati reteaua definita mai sus (clasa Net)"
      ]
    },
    {
      "cell_type": "code",
      "metadata": {
        "id": "ZqUwOWmDMpqQ",
        "colab": {
          "base_uri": "https://localhost:8080/"
        },
        "outputId": "a2cfe79b-3dee-4ebc-8294-5a2167d88b27"
      },
      "source": [
        "train_fn(epochs, train_loader, test_loader, network, loss_fn, optimizer)"
      ],
      "execution_count": 14,
      "outputs": [
        {
          "output_type": "stream",
          "text": [
            "Loss-ul la finalul epocii 0 are valoarea 2.281018018722534\n",
            "Acuratetea la finalul epocii 0 este 18.91%\n",
            "Loss-ul la finalul epocii 1 are valoarea 2.10899019241333\n",
            "Acuratetea la finalul epocii 1 este 26.83%\n",
            "Loss-ul la finalul epocii 2 are valoarea 1.9702876806259155\n",
            "Acuratetea la finalul epocii 2 este 32.41%\n",
            "Loss-ul la finalul epocii 3 are valoarea 1.903746485710144\n",
            "Acuratetea la finalul epocii 3 este 33.76%\n",
            "Loss-ul la finalul epocii 4 are valoarea 1.930052399635315\n",
            "Acuratetea la finalul epocii 4 este 35.55%\n"
          ],
          "name": "stdout"
        }
      ]
    },
    {
      "cell_type": "markdown",
      "metadata": {
        "id": "zmVavwztTZkz"
      },
      "source": [
        "## Reteaua LeNet\n",
        "\n",
        "### Cerinte\n",
        "  * **(3p)** Implementati reteaua LeNet dupa figura de mai jos si antrenati-o\n",
        "\n",
        "\n",
        "![alt text](https://drive.google.com/uc?id=1OVancUyIViMRMZdULFSVCvXJHQP0NGUV)\n",
        "\n",
        "Figura arhitectura LeNet\n",
        "\n",
        "![alt text](https://debuggercafe.com/wp-content/uploads/2019/07/Layers-in-LeNet.png)\n",
        "\n",
        "Tabel arhitectura LeNet\n"
      ]
    },
    {
      "cell_type": "code",
      "metadata": {
        "id": "zoe1vbggO-4U"
      },
      "source": [
        "import torch.nn as nn\n",
        "\n",
        "class LeNet(nn.Module):\n",
        "  def __init__(self):\n",
        "    super(LeNet, self).__init__()\n",
        "    self.layer1 = nn.Conv2d(in_channels=3, out_channels=6, kernel_size=(5,5), stride=(1,1))\n",
        "    self.activation = nn.ReLU()# nn.GELU()\n",
        "    self.avgPool1 = nn.AvgPool2d(kernel_size = (2,2), stride=(2,2), padding=0)\n",
        "    self.layer2 = nn.Conv2d(in_channels=6, out_channels=16, kernel_size=(5,5), stride=(1,1))\n",
        "    # self.avgPool2 = nn.AveragePool2d(kernel_size = (2,2), stride=(2,2), padding=0)\n",
        "    self.layer3 = nn.Conv2d(in_channels=16, out_channels=120, kernel_size=(5,5), stride=(1,1))\n",
        "    self.linear = nn.Linear(120,84)\n",
        "    self.linear2 = nn.Linear(84,10)\n",
        "    self.softmax = nn.Softmax(dim = 1)\n",
        "    self.flatten = nn.Flatten()\n",
        "    #self.norm1 = nn.BatchNorm2d(6)\n",
        "\n",
        "  def forward(self,x):\n",
        "    output_layer1 = self.layer1(x)\n",
        "    output1 = self.activation(output_layer1)\n",
        "    output_avgPool1 = self.avgPool1(output1)\n",
        "    output2 = self.activation(output_avgPool1)\n",
        "    #output2 = self.norm1(output2)\n",
        "    output_layer2 = self.layer2(output2)\n",
        "    output3 = self.activation(output_layer2)\n",
        "    output_avgPool1 = self.avgPool1(output3)\n",
        "    output4 = self.activation(output_avgPool1)\n",
        "    \n",
        "    output_layer3 = self.layer3(output4)\n",
        "    output5 = self.activation(output_layer3)\n",
        "    output5 = self.flatten(output5)\n",
        "    output_linear = self.linear(output5)\n",
        "    output6 = self.activation(output_linear)\n",
        "    output_linear2 = self.linear2(output6)\n",
        "    output7 = self.softmax(output_linear2)\n",
        "    \n",
        "\n",
        "\n",
        "    return output7"
      ],
      "execution_count": 15,
      "outputs": []
    },
    {
      "cell_type": "markdown",
      "metadata": {
        "id": "J0XPmGrEol9M"
      },
      "source": [
        "## Redefinirea obiectelor folosite in timpul antrenarii pentru reteaua LeNet\n",
        "\n",
        "### Cerinta\n",
        " * Redefiniti obiectele pentru a antrena reteaua LeNet"
      ]
    },
    {
      "cell_type": "code",
      "metadata": {
        "id": "jhqNoDmQo66c"
      },
      "source": [
        "import torch.optim as optim\n",
        "\n",
        "# Definiti numarul de epoci\n",
        "epochs = 8\n",
        "\n",
        "# Definiti reteaua\n",
        "lenet = LeNet().cuda()\n",
        "\n",
        "# Definiti optimizatorul\n",
        "lenet_optimizer = optim.Adam(lenet.parameters(), lr=1e-3)\n",
        "# Dupa definirea optimizatorului si dupa fiecare iteratie trebuie apelata functia zero_grad().\n",
        "# Aceasta face toti gradientii zero.\n",
        "# Completati codul pentru a face gradientii zero aici\n",
        "optimizer.zero_grad()\n",
        "\n",
        "# Definiti functia cost pentru clasificare Cross-Entropy\n",
        "loss_fn = nn.CrossEntropyLoss()"
      ],
      "execution_count": 20,
      "outputs": []
    },
    {
      "cell_type": "markdown",
      "metadata": {
        "id": "hwIQwUQpo_eR"
      },
      "source": [
        "## Antrenarea retelei LeNet"
      ]
    },
    {
      "cell_type": "code",
      "metadata": {
        "colab": {
          "base_uri": "https://localhost:8080/"
        },
        "id": "MgVHyQLbQrep",
        "outputId": "97b0df48-ee25-46b9-9cab-5d93ff02655d"
      },
      "source": [
        "train_fn(epochs, train_loader, test_loader, lenet, loss_fn, lenet_optimizer) #norm1 la output2 config 3 GELU DEZAMAGIRE"
      ],
      "execution_count": 43,
      "outputs": [
        {
          "output_type": "stream",
          "text": [
            "Loss-ul la finalul epocii 0 are valoarea 2.1009340286254883\n",
            "Acuratetea la finalul epocii 0 este 23.70%\n",
            "Loss-ul la finalul epocii 1 are valoarea 2.1872806549072266\n",
            "Acuratetea la finalul epocii 1 este 22.41%\n",
            "Loss-ul la finalul epocii 2 are valoarea 2.2541580200195312\n",
            "Acuratetea la finalul epocii 2 este 17.74%\n",
            "Loss-ul la finalul epocii 3 are valoarea 2.2389471530914307\n",
            "Acuratetea la finalul epocii 3 este 16.00%\n",
            "Loss-ul la finalul epocii 4 are valoarea 2.267254114151001\n",
            "Acuratetea la finalul epocii 4 este 14.85%\n",
            "Loss-ul la finalul epocii 5 are valoarea 2.3111379146575928\n",
            "Acuratetea la finalul epocii 5 este 12.56%\n",
            "Loss-ul la finalul epocii 6 are valoarea 2.265991449356079\n",
            "Acuratetea la finalul epocii 6 este 15.64%\n",
            "Loss-ul la finalul epocii 7 are valoarea 2.243258476257324\n",
            "Acuratetea la finalul epocii 7 este 15.28%\n"
          ],
          "name": "stdout"
        }
      ]
    },
    {
      "cell_type": "code",
      "metadata": {
        "colab": {
          "base_uri": "https://localhost:8080/"
        },
        "id": "kvQ7wfzANwpU",
        "outputId": "6ab7cb9f-0c77-4455-c96f-348452280061"
      },
      "source": [
        "train_fn(epochs, train_loader, test_loader, lenet, loss_fn, lenet_optimizer) #regularizare norm1 la output4 bad config 2 GELU"
      ],
      "execution_count": 40,
      "outputs": [
        {
          "output_type": "stream",
          "text": [
            "Loss-ul la finalul epocii 0 are valoarea 2.0545542240142822\n",
            "Acuratetea la finalul epocii 0 este 27.14%\n",
            "Loss-ul la finalul epocii 1 are valoarea 2.100139856338501\n",
            "Acuratetea la finalul epocii 1 este 24.59%\n",
            "Loss-ul la finalul epocii 2 are valoarea 2.156421661376953\n",
            "Acuratetea la finalul epocii 2 este 24.60%\n",
            "Loss-ul la finalul epocii 3 are valoarea 2.205085515975952\n",
            "Acuratetea la finalul epocii 3 este 21.52%\n",
            "Loss-ul la finalul epocii 4 are valoarea 2.16874623298645\n",
            "Acuratetea la finalul epocii 4 este 24.57%\n",
            "Loss-ul la finalul epocii 5 are valoarea 2.1809921264648438\n",
            "Acuratetea la finalul epocii 5 este 19.94%\n",
            "Loss-ul la finalul epocii 6 are valoarea 2.1723978519439697\n",
            "Acuratetea la finalul epocii 6 este 21.19%\n",
            "Loss-ul la finalul epocii 7 are valoarea 2.2050604820251465\n",
            "Acuratetea la finalul epocii 7 este 18.84%\n"
          ],
          "name": "stdout"
        }
      ]
    },
    {
      "cell_type": "code",
      "metadata": {
        "id": "UUl8W42do_sL",
        "colab": {
          "base_uri": "https://localhost:8080/"
        },
        "outputId": "f96b6c60-6563-44e7-c3f7-3cab60dab8e2"
      },
      "source": [
        "train_fn(epochs, train_loader, test_loader, lenet, loss_fn, lenet_optimizer)  #initial config (tanh activation function)"
      ],
      "execution_count": 19,
      "outputs": [
        {
          "output_type": "stream",
          "text": [
            "Loss-ul la finalul epocii 0 are valoarea 2.1028990745544434\n",
            "Acuratetea la finalul epocii 0 este 33.39%\n",
            "Loss-ul la finalul epocii 1 are valoarea 2.0748846530914307\n",
            "Acuratetea la finalul epocii 1 este 37.36%\n",
            "Loss-ul la finalul epocii 2 are valoarea 2.0458686351776123\n",
            "Acuratetea la finalul epocii 2 este 39.49%\n",
            "Loss-ul la finalul epocii 3 are valoarea 2.0380918979644775\n",
            "Acuratetea la finalul epocii 3 este 42.25%\n",
            "Loss-ul la finalul epocii 4 are valoarea 2.014744758605957\n",
            "Acuratetea la finalul epocii 4 este 43.87%\n",
            "Loss-ul la finalul epocii 5 are valoarea 2.0127031803131104\n",
            "Acuratetea la finalul epocii 5 este 44.88%\n",
            "Loss-ul la finalul epocii 6 are valoarea 1.9859122037887573\n",
            "Acuratetea la finalul epocii 6 este 45.78%\n",
            "Loss-ul la finalul epocii 7 are valoarea 1.9943145513534546\n",
            "Acuratetea la finalul epocii 7 este 46.98%\n"
          ],
          "name": "stdout"
        }
      ]
    },
    {
      "cell_type": "code",
      "metadata": {
        "colab": {
          "base_uri": "https://localhost:8080/"
        },
        "id": "mq5H-_bbVn0Y",
        "outputId": "3f7ce6fd-b8d7-46e9-d0c3-a602a98b4432"
      },
      "source": [
        "train_fn(epochs, train_loader, test_loader, lenet, loss_fn, lenet_optimizer) ##initial config (tanh activation function) config 2 RELU"
      ],
      "execution_count": 21,
      "outputs": [
        {
          "output_type": "stream",
          "text": [
            "Loss-ul la finalul epocii 0 are valoarea 2.112945318222046\n",
            "Acuratetea la finalul epocii 0 este 34.58%\n",
            "Loss-ul la finalul epocii 1 are valoarea 2.0848426818847656\n",
            "Acuratetea la finalul epocii 1 este 37.67%\n",
            "Loss-ul la finalul epocii 2 are valoarea 2.066033363342285\n",
            "Acuratetea la finalul epocii 2 este 40.18%\n",
            "Loss-ul la finalul epocii 3 are valoarea 2.0117897987365723\n",
            "Acuratetea la finalul epocii 3 este 42.14%\n",
            "Loss-ul la finalul epocii 4 are valoarea 2.0250701904296875\n",
            "Acuratetea la finalul epocii 4 este 43.86%\n",
            "Loss-ul la finalul epocii 5 are valoarea 2.0057997703552246\n",
            "Acuratetea la finalul epocii 5 este 45.78%\n",
            "Loss-ul la finalul epocii 6 are valoarea 1.9796842336654663\n",
            "Acuratetea la finalul epocii 6 este 47.02%\n",
            "Loss-ul la finalul epocii 7 are valoarea 1.967206597328186\n",
            "Acuratetea la finalul epocii 7 este 46.62%\n"
          ],
          "name": "stdout"
        }
      ]
    },
    {
      "cell_type": "markdown",
      "metadata": {
        "id": "OspDtfFnTodr"
      },
      "source": [
        "###Augmentare retea\n",
        "\n",
        "Reteaua de mai devreme duce lipsa de regularizare. O forma foarte puternica de regularizare este normalizarea, iar pentru acest lucru exista straturi speciale.\n",
        "\n",
        "Astfel de straturi:\n",
        "\n",
        "* torch.nn.BatchNorm2d(num_features)\n",
        "* torch.nn.InstanceNorm2d(num_features)\n",
        "\n",
        "Un alt element important il reprezinta functiile de activare, care pot influenta convergenta si puterea retelei. Cateva exemple de functii de activate:\n",
        "\n",
        "\n",
        "* Relu\n",
        "* Sigmoid\n",
        "* Tanh\n",
        "* LeakyRelu\n",
        "* GELU\n",
        "\n",
        "## Cerinta\n",
        "\n",
        "**(2p)** Experimentati cu aceste elemente in cadrul retelei LeNet definita mai devreme, pentru a obtine o acuratete mai buna. Observati viteza de convergenta si performanta retelei pentru 3 configuratii diferite.\n",
        "\n",
        "\n",
        "###Bonus\n",
        "**(1p)** Antrenati reteaua folosind GPU (Graphics processing unit)\n",
        "\n",
        "\n",
        "\n",
        "\n",
        "\n",
        "\n",
        "\n",
        "\n",
        "  \n"
      ]
    }
  ]
}